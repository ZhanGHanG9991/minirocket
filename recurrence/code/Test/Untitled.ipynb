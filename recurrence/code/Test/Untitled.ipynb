{
 "cells": [
  {
   "cell_type": "code",
   "execution_count": 2,
   "id": "062741c4",
   "metadata": {},
   "outputs": [],
   "source": [
    "import numpy as np"
   ]
  },
  {
   "cell_type": "code",
   "execution_count": 6,
   "id": "8de8bc47",
   "metadata": {},
   "outputs": [
    {
     "data": {
      "text/plain": [
       "array([ 1.        ,  1.10923769,  1.23040824,  1.36481519,  1.51390444,\n",
       "        1.67927986,  1.8627205 ,  2.06619978,  2.29190666,  2.54226924,\n",
       "        2.81998084,  3.12802902,  3.46972767,  3.84875269,  4.26918152,\n",
       "        4.73553703,  5.25283613,  5.82664379,  6.46313287,  7.16915054,\n",
       "        7.95229195,  8.82098191,  9.78456556, 10.85340885, 12.0390101 ,\n",
       "       13.3541237 , 14.81289725, 16.43102386, 18.22591087, 20.21686718,\n",
       "       22.42531095, 24.875     ])"
      ]
     },
     "execution_count": 6,
     "metadata": {},
     "output_type": "execute_result"
    }
   ],
   "source": [
    "np.logspace(0, 4.636624620543649, 32, base = 2)"
   ]
  },
  {
   "cell_type": "code",
   "execution_count": 5,
   "id": "35075c55",
   "metadata": {},
   "outputs": [
    {
     "data": {
      "text/plain": [
       "4.636624620543649"
      ]
     },
     "execution_count": 5,
     "metadata": {},
     "output_type": "execute_result"
    }
   ],
   "source": [
    "np.log2((200 - 1) / (9 - 1))"
   ]
  },
  {
   "cell_type": "code",
   "execution_count": 9,
   "id": "f85006e8",
   "metadata": {},
   "outputs": [
    {
     "data": {
      "text/plain": [
       "array([0.618034  , 0.23606798, 0.85410196, 0.47213596, 0.09016994,\n",
       "       0.7082039 ], dtype=float32)"
      ]
     },
     "execution_count": 9,
     "metadata": {},
     "output_type": "execute_result"
    }
   ],
   "source": [
    "np.array([(_ * ((np.sqrt(5) + 1) / 2)) % 1 for _ in range(1, 6 + 1)], dtype = np.float32)"
   ]
  },
  {
   "cell_type": "code",
   "execution_count": 10,
   "id": "2f4e0b1e",
   "metadata": {
    "scrolled": true
   },
   "outputs": [
    {
     "data": {
      "text/plain": [
       "18"
      ]
     },
     "execution_count": 10,
     "metadata": {},
     "output_type": "execute_result"
    }
   ],
   "source": [
    "np.random.randint(100)"
   ]
  },
  {
   "cell_type": "code",
   "execution_count": 26,
   "id": "4cce78a3",
   "metadata": {},
   "outputs": [],
   "source": [
    "X = np.array([1,2,3,4,5])"
   ]
  },
  {
   "cell_type": "code",
   "execution_count": 27,
   "id": "02c58205",
   "metadata": {},
   "outputs": [],
   "source": [
    "C = np.zeros(5, dtype = np.float32)"
   ]
  },
  {
   "cell_type": "code",
   "execution_count": 28,
   "id": "405bb123",
   "metadata": {},
   "outputs": [
    {
     "data": {
      "text/plain": [
       "array([0., 0., 0., 0., 0.], dtype=float32)"
      ]
     },
     "execution_count": 28,
     "metadata": {},
     "output_type": "execute_result"
    }
   ],
   "source": [
    "C"
   ]
  },
  {
   "cell_type": "code",
   "execution_count": 29,
   "id": "4a07795e",
   "metadata": {},
   "outputs": [],
   "source": [
    "C[:] = X"
   ]
  },
  {
   "cell_type": "code",
   "execution_count": 30,
   "id": "84e9bb44",
   "metadata": {},
   "outputs": [
    {
     "data": {
      "text/plain": [
       "array([1., 2., 3., 4., 5.], dtype=float32)"
      ]
     },
     "execution_count": 30,
     "metadata": {},
     "output_type": "execute_result"
    }
   ],
   "source": [
    "C"
   ]
  },
  {
   "cell_type": "code",
   "execution_count": 31,
   "id": "edaf11d4",
   "metadata": {},
   "outputs": [
    {
     "data": {
      "text/plain": [
       "4"
      ]
     },
     "execution_count": 31,
     "metadata": {},
     "output_type": "execute_result"
    }
   ],
   "source": [
    "9 // 2"
   ]
  },
  {
   "cell_type": "code",
   "execution_count": 33,
   "id": "77e0efd7",
   "metadata": {
    "scrolled": true
   },
   "outputs": [
    {
     "name": "stdout",
     "output_type": "stream",
     "text": [
      "9{123}\n"
     ]
    }
   ],
   "source": [
    "print(\"9{123}\")"
   ]
  },
  {
   "cell_type": "code",
   "execution_count": 34,
   "id": "96c7f767",
   "metadata": {},
   "outputs": [],
   "source": [
    "from itertools import combinations"
   ]
  },
  {
   "cell_type": "code",
   "execution_count": 36,
   "id": "0d66ad96",
   "metadata": {},
   "outputs": [
    {
     "data": {
      "text/plain": [
       "array([[0, 1, 2],\n",
       "       [0, 1, 3],\n",
       "       [0, 1, 4],\n",
       "       [0, 1, 5],\n",
       "       [0, 1, 6],\n",
       "       [0, 1, 7],\n",
       "       [0, 1, 8],\n",
       "       [0, 2, 3],\n",
       "       [0, 2, 4],\n",
       "       [0, 2, 5],\n",
       "       [0, 2, 6],\n",
       "       [0, 2, 7],\n",
       "       [0, 2, 8],\n",
       "       [0, 3, 4],\n",
       "       [0, 3, 5],\n",
       "       [0, 3, 6],\n",
       "       [0, 3, 7],\n",
       "       [0, 3, 8],\n",
       "       [0, 4, 5],\n",
       "       [0, 4, 6],\n",
       "       [0, 4, 7],\n",
       "       [0, 4, 8],\n",
       "       [0, 5, 6],\n",
       "       [0, 5, 7],\n",
       "       [0, 5, 8],\n",
       "       [0, 6, 7],\n",
       "       [0, 6, 8],\n",
       "       [0, 7, 8],\n",
       "       [1, 2, 3],\n",
       "       [1, 2, 4],\n",
       "       [1, 2, 5],\n",
       "       [1, 2, 6],\n",
       "       [1, 2, 7],\n",
       "       [1, 2, 8],\n",
       "       [1, 3, 4],\n",
       "       [1, 3, 5],\n",
       "       [1, 3, 6],\n",
       "       [1, 3, 7],\n",
       "       [1, 3, 8],\n",
       "       [1, 4, 5],\n",
       "       [1, 4, 6],\n",
       "       [1, 4, 7],\n",
       "       [1, 4, 8],\n",
       "       [1, 5, 6],\n",
       "       [1, 5, 7],\n",
       "       [1, 5, 8],\n",
       "       [1, 6, 7],\n",
       "       [1, 6, 8],\n",
       "       [1, 7, 8],\n",
       "       [2, 3, 4],\n",
       "       [2, 3, 5],\n",
       "       [2, 3, 6],\n",
       "       [2, 3, 7],\n",
       "       [2, 3, 8],\n",
       "       [2, 4, 5],\n",
       "       [2, 4, 6],\n",
       "       [2, 4, 7],\n",
       "       [2, 4, 8],\n",
       "       [2, 5, 6],\n",
       "       [2, 5, 7],\n",
       "       [2, 5, 8],\n",
       "       [2, 6, 7],\n",
       "       [2, 6, 8],\n",
       "       [2, 7, 8],\n",
       "       [3, 4, 5],\n",
       "       [3, 4, 6],\n",
       "       [3, 4, 7],\n",
       "       [3, 4, 8],\n",
       "       [3, 5, 6],\n",
       "       [3, 5, 7],\n",
       "       [3, 5, 8],\n",
       "       [3, 6, 7],\n",
       "       [3, 6, 8],\n",
       "       [3, 7, 8],\n",
       "       [4, 5, 6],\n",
       "       [4, 5, 7],\n",
       "       [4, 5, 8],\n",
       "       [4, 6, 7],\n",
       "       [4, 6, 8],\n",
       "       [4, 7, 8],\n",
       "       [5, 6, 7],\n",
       "       [5, 6, 8],\n",
       "       [5, 7, 8],\n",
       "       [6, 7, 8]], dtype=int32)"
      ]
     },
     "execution_count": 36,
     "metadata": {},
     "output_type": "execute_result"
    }
   ],
   "source": [
    "np.array([_ for _ in combinations(np.arange(9), 3)], dtype = np.int32)"
   ]
  },
  {
   "cell_type": "code",
   "execution_count": null,
   "id": "fc991678",
   "metadata": {},
   "outputs": [],
   "source": []
  }
 ],
 "metadata": {
  "kernelspec": {
   "display_name": "Python 3",
   "language": "python",
   "name": "python3"
  },
  "language_info": {
   "codemirror_mode": {
    "name": "ipython",
    "version": 3
   },
   "file_extension": ".py",
   "mimetype": "text/x-python",
   "name": "python",
   "nbconvert_exporter": "python",
   "pygments_lexer": "ipython3",
   "version": "3.6.9"
  }
 },
 "nbformat": 4,
 "nbformat_minor": 5
}
