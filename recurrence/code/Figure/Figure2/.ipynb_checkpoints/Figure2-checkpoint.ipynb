{
 "cells": [
  {
   "cell_type": "code",
   "execution_count": 1,
   "id": "0e0203ae",
   "metadata": {},
   "outputs": [],
   "source": [
    "import pandas as pd\n",
    "from matplotlib import pyplot as plt"
   ]
  },
  {
   "cell_type": "code",
   "execution_count": 2,
   "id": "783e8b2a",
   "metadata": {},
   "outputs": [],
   "source": [
    "rocket_data = pd.read_csv('./results_ucr.csv')\n",
    "minirocket_data = pd.read_csv('./minirocket_acc_with_train.csv')"
   ]
  },
  {
   "cell_type": "code",
   "execution_count": 3,
   "id": "17a482fd",
   "metadata": {},
   "outputs": [
    {
     "data": {
      "text/html": [
       "<div>\n",
       "<style scoped>\n",
       "    .dataframe tbody tr th:only-of-type {\n",
       "        vertical-align: middle;\n",
       "    }\n",
       "\n",
       "    .dataframe tbody tr th {\n",
       "        vertical-align: top;\n",
       "    }\n",
       "\n",
       "    .dataframe thead th {\n",
       "        text-align: right;\n",
       "    }\n",
       "</style>\n",
       "<table border=\"1\" class=\"dataframe\">\n",
       "  <thead>\n",
       "    <tr style=\"text-align: right;\">\n",
       "      <th></th>\n",
       "      <th>dataset</th>\n",
       "      <th>accuracy_mean</th>\n",
       "      <th>accuracy_standard_deviation</th>\n",
       "      <th>time_training_seconds</th>\n",
       "      <th>time_test_seconds</th>\n",
       "      <th>time_transform_seconds</th>\n",
       "    </tr>\n",
       "  </thead>\n",
       "  <tbody>\n",
       "    <tr>\n",
       "      <th>0</th>\n",
       "      <td>ACSF1</td>\n",
       "      <td>0.884000</td>\n",
       "      <td>0.008000</td>\n",
       "      <td>2.227721</td>\n",
       "      <td>2.095262</td>\n",
       "      <td>4.228205</td>\n",
       "    </tr>\n",
       "    <tr>\n",
       "      <th>1</th>\n",
       "      <td>Adiac</td>\n",
       "      <td>0.780563</td>\n",
       "      <td>0.009487</td>\n",
       "      <td>1.296286</td>\n",
       "      <td>0.939656</td>\n",
       "      <td>1.828387</td>\n",
       "    </tr>\n",
       "    <tr>\n",
       "      <th>2</th>\n",
       "      <td>AllGestureWiimoteX</td>\n",
       "      <td>0.773714</td>\n",
       "      <td>0.005613</td>\n",
       "      <td>2.240317</td>\n",
       "      <td>4.546384</td>\n",
       "      <td>6.502856</td>\n",
       "    </tr>\n",
       "    <tr>\n",
       "      <th>3</th>\n",
       "      <td>AllGestureWiimoteY</td>\n",
       "      <td>0.787429</td>\n",
       "      <td>0.004371</td>\n",
       "      <td>2.259488</td>\n",
       "      <td>4.553115</td>\n",
       "      <td>6.533501</td>\n",
       "    </tr>\n",
       "    <tr>\n",
       "      <th>4</th>\n",
       "      <td>AllGestureWiimoteZ</td>\n",
       "      <td>0.765143</td>\n",
       "      <td>0.006676</td>\n",
       "      <td>2.268345</td>\n",
       "      <td>4.571773</td>\n",
       "      <td>6.520922</td>\n",
       "    </tr>\n",
       "    <tr>\n",
       "      <th>...</th>\n",
       "      <td>...</td>\n",
       "      <td>...</td>\n",
       "      <td>...</td>\n",
       "      <td>...</td>\n",
       "      <td>...</td>\n",
       "      <td>...</td>\n",
       "    </tr>\n",
       "    <tr>\n",
       "      <th>123</th>\n",
       "      <td>Wine</td>\n",
       "      <td>0.800000</td>\n",
       "      <td>0.047431</td>\n",
       "      <td>0.286174</td>\n",
       "      <td>0.201723</td>\n",
       "      <td>0.447561</td>\n",
       "    </tr>\n",
       "    <tr>\n",
       "      <th>124</th>\n",
       "      <td>WordSynonyms</td>\n",
       "      <td>0.755486</td>\n",
       "      <td>0.002974</td>\n",
       "      <td>1.200424</td>\n",
       "      <td>2.240378</td>\n",
       "      <td>3.175078</td>\n",
       "    </tr>\n",
       "    <tr>\n",
       "      <th>125</th>\n",
       "      <td>Worms</td>\n",
       "      <td>0.729870</td>\n",
       "      <td>0.005195</td>\n",
       "      <td>2.330864</td>\n",
       "      <td>0.985031</td>\n",
       "      <td>3.193482</td>\n",
       "    </tr>\n",
       "    <tr>\n",
       "      <th>126</th>\n",
       "      <td>WormsTwoClass</td>\n",
       "      <td>0.797403</td>\n",
       "      <td>0.006362</td>\n",
       "      <td>2.350371</td>\n",
       "      <td>0.997437</td>\n",
       "      <td>3.199964</td>\n",
       "    </tr>\n",
       "    <tr>\n",
       "      <th>127</th>\n",
       "      <td>Yoga</td>\n",
       "      <td>0.909733</td>\n",
       "      <td>0.003974</td>\n",
       "      <td>1.968621</td>\n",
       "      <td>16.310514</td>\n",
       "      <td>17.904759</td>\n",
       "    </tr>\n",
       "  </tbody>\n",
       "</table>\n",
       "<p>128 rows × 6 columns</p>\n",
       "</div>"
      ],
      "text/plain": [
       "                dataset  accuracy_mean  accuracy_standard_deviation  \\\n",
       "0                 ACSF1       0.884000                     0.008000   \n",
       "1                 Adiac       0.780563                     0.009487   \n",
       "2    AllGestureWiimoteX       0.773714                     0.005613   \n",
       "3    AllGestureWiimoteY       0.787429                     0.004371   \n",
       "4    AllGestureWiimoteZ       0.765143                     0.006676   \n",
       "..                  ...            ...                          ...   \n",
       "123                Wine       0.800000                     0.047431   \n",
       "124        WordSynonyms       0.755486                     0.002974   \n",
       "125               Worms       0.729870                     0.005195   \n",
       "126       WormsTwoClass       0.797403                     0.006362   \n",
       "127                Yoga       0.909733                     0.003974   \n",
       "\n",
       "     time_training_seconds  time_test_seconds  time_transform_seconds  \n",
       "0                 2.227721           2.095262                4.228205  \n",
       "1                 1.296286           0.939656                1.828387  \n",
       "2                 2.240317           4.546384                6.502856  \n",
       "3                 2.259488           4.553115                6.533501  \n",
       "4                 2.268345           4.571773                6.520922  \n",
       "..                     ...                ...                     ...  \n",
       "123               0.286174           0.201723                0.447561  \n",
       "124               1.200424           2.240378                3.175078  \n",
       "125               2.330864           0.985031                3.193482  \n",
       "126               2.350371           0.997437                3.199964  \n",
       "127               1.968621          16.310514               17.904759  \n",
       "\n",
       "[128 rows x 6 columns]"
      ]
     },
     "execution_count": 3,
     "metadata": {},
     "output_type": "execute_result"
    }
   ],
   "source": [
    "rocket_data"
   ]
  },
  {
   "cell_type": "code",
   "execution_count": 4,
   "id": "ddb774a9",
   "metadata": {},
   "outputs": [
    {
     "data": {
      "text/plain": [
       "Index(['dataset', 'accuracy', 'transform_time', 'training_time'], dtype='object')"
      ]
     },
     "execution_count": 4,
     "metadata": {},
     "output_type": "execute_result"
    }
   ],
   "source": [
    "minirocket_data.columns"
   ]
  },
  {
   "cell_type": "code",
   "execution_count": 5,
   "id": "4a6e940f",
   "metadata": {},
   "outputs": [],
   "source": [
    "x = rocket_data['time_transform_seconds']\n",
    "y = minirocket_data['transform_time']"
   ]
  },
  {
   "cell_type": "code",
   "execution_count": 6,
   "id": "cb80bc3f",
   "metadata": {
    "scrolled": true
   },
   "outputs": [
    {
     "data": {
      "text/plain": [
       "0      0.236416\n",
       "1      0.083945\n",
       "2      0.165190\n",
       "3      0.184339\n",
       "4      0.171607\n",
       "         ...   \n",
       "123    0.095129\n",
       "124    0.100537\n",
       "125    0.142256\n",
       "126    0.143274\n",
       "127    0.316999\n",
       "Name: transform_time, Length: 128, dtype: float64"
      ]
     },
     "execution_count": 6,
     "metadata": {},
     "output_type": "execute_result"
    }
   ],
   "source": [
    "y"
   ]
  },
  {
   "cell_type": "code",
   "execution_count": 7,
   "id": "f957beed",
   "metadata": {},
   "outputs": [],
   "source": [
    "import numpy as np"
   ]
  },
  {
   "cell_type": "code",
   "execution_count": 8,
   "id": "8623d197",
   "metadata": {},
   "outputs": [
    {
     "data": {
      "image/png": "[encoded data removed]",
      "text/plain": [
       "<Figure size 648x648 with 1 Axes>"
      ]
     },
     "metadata": {
      "needs_background": "light"
     },
     "output_type": "display_data"
    }
   ],
   "source": [
    "fig = plt.figure(figsize=(9,9))\n",
    "# 为图像添加子目标ax2,后续所有的操作为在ax2上操作\n",
    "ax2  = fig.add_subplot()\n",
    "ax2.scatter(x, y)\n",
    "ax2.scatter(np.linspace(0, 1000, 1000000), np.linspace(0, 1000, 1000000), s=1)\n",
    "ax2.scatter(np.linspace(0, 1000, 1000000), 0.1 * np.linspace(0, 1000, 1000000), s=1)\n",
    "ax2.scatter(np.linspace(0, 1000, 100000), 0.01 * np.linspace(0, 1000, 100000), s=1)\n",
    "ax2.set_xlim(10**-2, 10**3)\n",
    "ax2.set_xscale('log')\n",
    "ax2.set_xlabel('Rocket')\n",
    "ax2.set_ylim(10**-2, 10**3)\n",
    "ax2.set_yscale('log')\n",
    "ax2.set_ylabel('MiniRocket')\n",
    "plt.savefig('rocket_vs_mini_acc.jpg', dpi=400)"
   ]
  },
  {
   "cell_type": "code",
   "execution_count": null,
   "id": "341e1adb",
   "metadata": {},
   "outputs": [],
   "source": []
  }
 ],
 "metadata": {
  "kernelspec": {
   "display_name": "Python 3",
   "language": "python",
   "name": "python3"
  },
  "language_info": {
   "codemirror_mode": {
    "name": "ipython",
    "version": 3
   },
   "file_extension": ".py",
   "mimetype": "text/x-python",
   "name": "python",
   "nbconvert_exporter": "python",
   "pygments_lexer": "ipython3",
   "version": "3.6.9"
  }
 },
 "nbformat": 4,
 "nbformat_minor": 5
}
