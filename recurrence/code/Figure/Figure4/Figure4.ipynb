{
 "cells": [
  {
   "cell_type": "code",
   "execution_count": 1,
   "id": "aec274a8",
   "metadata": {},
   "outputs": [],
   "source": [
    "import pandas as pd\n",
    "from matplotlib import pyplot as plt\n",
    "import numpy as np"
   ]
  },
  {
   "cell_type": "code",
   "execution_count": 2,
   "id": "d1fc373b",
   "metadata": {},
   "outputs": [],
   "source": [
    "rocket_data = pd.read_csv('./results_ucr.csv')\n",
    "minirocket_data = pd.read_csv('./minirocket_acc_with_train.csv')"
   ]
  },
  {
   "cell_type": "code",
   "execution_count": 3,
   "id": "11f75360",
   "metadata": {},
   "outputs": [
    {
     "data": {
      "text/html": [
       "<div>\n",
       "<style scoped>\n",
       "    .dataframe tbody tr th:only-of-type {\n",
       "        vertical-align: middle;\n",
       "    }\n",
       "\n",
       "    .dataframe tbody tr th {\n",
       "        vertical-align: top;\n",
       "    }\n",
       "\n",
       "    .dataframe thead th {\n",
       "        text-align: right;\n",
       "    }\n",
       "</style>\n",
       "<table border=\"1\" class=\"dataframe\">\n",
       "  <thead>\n",
       "    <tr style=\"text-align: right;\">\n",
       "      <th></th>\n",
       "      <th>dataset</th>\n",
       "      <th>accuracy_mean</th>\n",
       "      <th>accuracy_standard_deviation</th>\n",
       "      <th>time_training_seconds</th>\n",
       "      <th>time_test_seconds</th>\n",
       "    </tr>\n",
       "  </thead>\n",
       "  <tbody>\n",
       "    <tr>\n",
       "      <th>0</th>\n",
       "      <td>ACSF1</td>\n",
       "      <td>0.880000</td>\n",
       "      <td>0.014142</td>\n",
       "      <td>2.238663</td>\n",
       "      <td>2.110272</td>\n",
       "    </tr>\n",
       "    <tr>\n",
       "      <th>1</th>\n",
       "      <td>Adiac</td>\n",
       "      <td>0.786701</td>\n",
       "      <td>0.005266</td>\n",
       "      <td>1.335006</td>\n",
       "      <td>0.925903</td>\n",
       "    </tr>\n",
       "    <tr>\n",
       "      <th>2</th>\n",
       "      <td>AllGestureWiimoteX</td>\n",
       "      <td>0.776571</td>\n",
       "      <td>0.002942</td>\n",
       "      <td>2.304029</td>\n",
       "      <td>4.541940</td>\n",
       "    </tr>\n",
       "    <tr>\n",
       "      <th>3</th>\n",
       "      <td>AllGestureWiimoteY</td>\n",
       "      <td>0.790000</td>\n",
       "      <td>0.002556</td>\n",
       "      <td>2.266093</td>\n",
       "      <td>4.539702</td>\n",
       "    </tr>\n",
       "    <tr>\n",
       "      <th>4</th>\n",
       "      <td>AllGestureWiimoteZ</td>\n",
       "      <td>0.764286</td>\n",
       "      <td>0.004607</td>\n",
       "      <td>2.248421</td>\n",
       "      <td>4.544795</td>\n",
       "    </tr>\n",
       "    <tr>\n",
       "      <th>...</th>\n",
       "      <td>...</td>\n",
       "      <td>...</td>\n",
       "      <td>...</td>\n",
       "      <td>...</td>\n",
       "      <td>...</td>\n",
       "    </tr>\n",
       "    <tr>\n",
       "      <th>123</th>\n",
       "      <td>Wine</td>\n",
       "      <td>0.822222</td>\n",
       "      <td>0.027716</td>\n",
       "      <td>0.291806</td>\n",
       "      <td>0.197997</td>\n",
       "    </tr>\n",
       "    <tr>\n",
       "      <th>124</th>\n",
       "      <td>WordSynonyms</td>\n",
       "      <td>0.753292</td>\n",
       "      <td>0.002126</td>\n",
       "      <td>1.225147</td>\n",
       "      <td>2.257668</td>\n",
       "    </tr>\n",
       "    <tr>\n",
       "      <th>125</th>\n",
       "      <td>Worms</td>\n",
       "      <td>0.724675</td>\n",
       "      <td>0.005195</td>\n",
       "      <td>2.349010</td>\n",
       "      <td>0.978701</td>\n",
       "    </tr>\n",
       "    <tr>\n",
       "      <th>126</th>\n",
       "      <td>WormsTwoClass</td>\n",
       "      <td>0.797403</td>\n",
       "      <td>0.006362</td>\n",
       "      <td>2.355042</td>\n",
       "      <td>0.953392</td>\n",
       "    </tr>\n",
       "    <tr>\n",
       "      <th>127</th>\n",
       "      <td>Yoga</td>\n",
       "      <td>0.910067</td>\n",
       "      <td>0.003611</td>\n",
       "      <td>1.966484</td>\n",
       "      <td>16.341403</td>\n",
       "    </tr>\n",
       "  </tbody>\n",
       "</table>\n",
       "<p>128 rows × 5 columns</p>\n",
       "</div>"
      ],
      "text/plain": [
       "                dataset  accuracy_mean  accuracy_standard_deviation  \\\n",
       "0                 ACSF1       0.880000                     0.014142   \n",
       "1                 Adiac       0.786701                     0.005266   \n",
       "2    AllGestureWiimoteX       0.776571                     0.002942   \n",
       "3    AllGestureWiimoteY       0.790000                     0.002556   \n",
       "4    AllGestureWiimoteZ       0.764286                     0.004607   \n",
       "..                  ...            ...                          ...   \n",
       "123                Wine       0.822222                     0.027716   \n",
       "124        WordSynonyms       0.753292                     0.002126   \n",
       "125               Worms       0.724675                     0.005195   \n",
       "126       WormsTwoClass       0.797403                     0.006362   \n",
       "127                Yoga       0.910067                     0.003611   \n",
       "\n",
       "     time_training_seconds  time_test_seconds  \n",
       "0                 2.238663           2.110272  \n",
       "1                 1.335006           0.925903  \n",
       "2                 2.304029           4.541940  \n",
       "3                 2.266093           4.539702  \n",
       "4                 2.248421           4.544795  \n",
       "..                     ...                ...  \n",
       "123               0.291806           0.197997  \n",
       "124               1.225147           2.257668  \n",
       "125               2.349010           0.978701  \n",
       "126               2.355042           0.953392  \n",
       "127               1.966484          16.341403  \n",
       "\n",
       "[128 rows x 5 columns]"
      ]
     },
     "execution_count": 3,
     "metadata": {},
     "output_type": "execute_result"
    }
   ],
   "source": [
    "rocket_data"
   ]
  },
  {
   "cell_type": "code",
   "execution_count": 4,
   "id": "8600aab0",
   "metadata": {
    "scrolled": true
   },
   "outputs": [
    {
     "data": {
      "text/html": [
       "<div>\n",
       "<style scoped>\n",
       "    .dataframe tbody tr th:only-of-type {\n",
       "        vertical-align: middle;\n",
       "    }\n",
       "\n",
       "    .dataframe tbody tr th {\n",
       "        vertical-align: top;\n",
       "    }\n",
       "\n",
       "    .dataframe thead th {\n",
       "        text-align: right;\n",
       "    }\n",
       "</style>\n",
       "<table border=\"1\" class=\"dataframe\">\n",
       "  <thead>\n",
       "    <tr style=\"text-align: right;\">\n",
       "      <th></th>\n",
       "      <th>dataset</th>\n",
       "      <th>accuracy</th>\n",
       "      <th>transform_time</th>\n",
       "      <th>training_time</th>\n",
       "    </tr>\n",
       "  </thead>\n",
       "  <tbody>\n",
       "    <tr>\n",
       "      <th>0</th>\n",
       "      <td>ACSF1</td>\n",
       "      <td>0.910000</td>\n",
       "      <td>0.236416</td>\n",
       "      <td>0.293939</td>\n",
       "    </tr>\n",
       "    <tr>\n",
       "      <th>1</th>\n",
       "      <td>Adiac</td>\n",
       "      <td>0.820972</td>\n",
       "      <td>0.083945</td>\n",
       "      <td>0.325050</td>\n",
       "    </tr>\n",
       "    <tr>\n",
       "      <th>2</th>\n",
       "      <td>AllGestureWiimoteX</td>\n",
       "      <td>0.682857</td>\n",
       "      <td>0.165190</td>\n",
       "      <td>0.290187</td>\n",
       "    </tr>\n",
       "    <tr>\n",
       "      <th>3</th>\n",
       "      <td>AllGestureWiimoteY</td>\n",
       "      <td>0.715714</td>\n",
       "      <td>0.184339</td>\n",
       "      <td>0.336986</td>\n",
       "    </tr>\n",
       "    <tr>\n",
       "      <th>4</th>\n",
       "      <td>AllGestureWiimoteZ</td>\n",
       "      <td>0.680000</td>\n",
       "      <td>0.171607</td>\n",
       "      <td>0.326170</td>\n",
       "    </tr>\n",
       "    <tr>\n",
       "      <th>...</th>\n",
       "      <td>...</td>\n",
       "      <td>...</td>\n",
       "      <td>...</td>\n",
       "      <td>...</td>\n",
       "    </tr>\n",
       "    <tr>\n",
       "      <th>123</th>\n",
       "      <td>Wine</td>\n",
       "      <td>0.833333</td>\n",
       "      <td>0.095129</td>\n",
       "      <td>0.113657</td>\n",
       "    </tr>\n",
       "    <tr>\n",
       "      <th>124</th>\n",
       "      <td>WordSynonyms</td>\n",
       "      <td>0.757053</td>\n",
       "      <td>0.100537</td>\n",
       "      <td>0.198147</td>\n",
       "    </tr>\n",
       "    <tr>\n",
       "      <th>125</th>\n",
       "      <td>Worms</td>\n",
       "      <td>0.753247</td>\n",
       "      <td>0.142256</td>\n",
       "      <td>0.202674</td>\n",
       "    </tr>\n",
       "    <tr>\n",
       "      <th>126</th>\n",
       "      <td>WormsTwoClass</td>\n",
       "      <td>0.792208</td>\n",
       "      <td>0.143274</td>\n",
       "      <td>0.193608</td>\n",
       "    </tr>\n",
       "    <tr>\n",
       "      <th>127</th>\n",
       "      <td>Yoga</td>\n",
       "      <td>0.909000</td>\n",
       "      <td>0.316999</td>\n",
       "      <td>0.466343</td>\n",
       "    </tr>\n",
       "  </tbody>\n",
       "</table>\n",
       "<p>128 rows × 4 columns</p>\n",
       "</div>"
      ],
      "text/plain": [
       "                dataset  accuracy  transform_time  training_time\n",
       "0                 ACSF1  0.910000        0.236416       0.293939\n",
       "1                 Adiac  0.820972        0.083945       0.325050\n",
       "2    AllGestureWiimoteX  0.682857        0.165190       0.290187\n",
       "3    AllGestureWiimoteY  0.715714        0.184339       0.336986\n",
       "4    AllGestureWiimoteZ  0.680000        0.171607       0.326170\n",
       "..                  ...       ...             ...            ...\n",
       "123                Wine  0.833333        0.095129       0.113657\n",
       "124        WordSynonyms  0.757053        0.100537       0.198147\n",
       "125               Worms  0.753247        0.142256       0.202674\n",
       "126       WormsTwoClass  0.792208        0.143274       0.193608\n",
       "127                Yoga  0.909000        0.316999       0.466343\n",
       "\n",
       "[128 rows x 4 columns]"
      ]
     },
     "execution_count": 4,
     "metadata": {},
     "output_type": "execute_result"
    }
   ],
   "source": [
    "minirocket_data"
   ]
  },
  {
   "cell_type": "code",
   "execution_count": 5,
   "id": "bf74d7b0",
   "metadata": {},
   "outputs": [],
   "source": [
    "x = rocket_data['accuracy_mean']\n",
    "y = minirocket_data['accuracy']"
   ]
  },
  {
   "cell_type": "code",
   "execution_count": 6,
   "id": "34ef446a",
   "metadata": {},
   "outputs": [
    {
     "data": {
      "image/png": "[encoded data removed]",
      "text/plain": [
       "<Figure size 648x648 with 1 Axes>"
      ]
     },
     "metadata": {
      "needs_background": "light"
     },
     "output_type": "display_data"
    }
   ],
   "source": [
    "fig = plt.figure(figsize=(9,9))\n",
    "# 为图像添加子目标ax2,后续所有的操作为在ax2上操作\n",
    "ax2  = fig.add_subplot()\n",
    "ax2.set_xlim(0, 1.1)\n",
    "ax2.set_ylim(0, 1.1)\n",
    "xbigy = x > y\n",
    "ax2.scatter(x[xbigy], y[xbigy], s=10)\n",
    "ax2.scatter(np.linspace(0, 1.1), np.linspace(0, 1.1), color='black', s=1)\n",
    "ax2.scatter(x[~xbigy], y[~xbigy], s=10)\n",
    "ax2.set_xlabel('Rocket')\n",
    "ax2.set_ylabel('MiniRocket')\n",
    "plt.savefig('fix.jpg', dpi=400)"
   ]
  },
  {
   "cell_type": "code",
   "execution_count": 7,
   "id": "a15910e2",
   "metadata": {},
   "outputs": [],
   "source": [
    "xbigy = x > y"
   ]
  },
  {
   "cell_type": "code",
   "execution_count": 8,
   "id": "52b468cb",
   "metadata": {},
   "outputs": [
    {
     "data": {
      "text/plain": [
       "51"
      ]
     },
     "execution_count": 8,
     "metadata": {},
     "output_type": "execute_result"
    }
   ],
   "source": [
    "len(x[xbigy])"
   ]
  },
  {
   "cell_type": "code",
   "execution_count": 9,
   "id": "bfb1450f",
   "metadata": {},
   "outputs": [],
   "source": [
    "xeqay = (x == y)"
   ]
  },
  {
   "cell_type": "code",
   "execution_count": 10,
   "id": "23215679",
   "metadata": {},
   "outputs": [
    {
     "data": {
      "text/plain": [
       "11"
      ]
     },
     "execution_count": 10,
     "metadata": {},
     "output_type": "execute_result"
    }
   ],
   "source": [
    "len(x[xeqay])"
   ]
  },
  {
   "cell_type": "code",
   "execution_count": 11,
   "id": "950f5c6a",
   "metadata": {},
   "outputs": [],
   "source": [
    "xsmally = (x < y)"
   ]
  },
  {
   "cell_type": "code",
   "execution_count": 12,
   "id": "1ac1147c",
   "metadata": {},
   "outputs": [
    {
     "data": {
      "text/plain": [
       "66"
      ]
     },
     "execution_count": 12,
     "metadata": {},
     "output_type": "execute_result"
    }
   ],
   "source": [
    "len(x[xsmally])"
   ]
  },
  {
   "cell_type": "code",
   "execution_count": null,
   "id": "9a09b907",
   "metadata": {},
   "outputs": [],
   "source": []
  }
 ],
 "metadata": {
  "kernelspec": {
   "display_name": "Python 3",
   "language": "python",
   "name": "python3"
  },
  "language_info": {
   "codemirror_mode": {
    "name": "ipython",
    "version": 3
   },
   "file_extension": ".py",
   "mimetype": "text/x-python",
   "name": "python",
   "nbconvert_exporter": "python",
   "pygments_lexer": "ipython3",
   "version": "3.6.9"
  }
 },
 "nbformat": 4,
 "nbformat_minor": 5
}
