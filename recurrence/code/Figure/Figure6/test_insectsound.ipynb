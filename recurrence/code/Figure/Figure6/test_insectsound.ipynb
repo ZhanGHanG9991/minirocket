{
 "cells": [
  {
   "cell_type": "code",
   "execution_count": 1,
   "id": "a01aa9fe",
   "metadata": {
    "scrolled": true
   },
   "outputs": [
    {
     "name": "stderr",
     "output_type": "stream",
     "text": [
      "/home/zh/.local/lib/python3.6/site-packages/numba/core/errors.py:154: UserWarning: Insufficiently recent colorama version found. Numba requires colorama >= 0.3.9\n",
      "  warnings.warn(msg)\n"
     ]
    }
   ],
   "source": [
    "from scipy.io import arff\n",
    "import pandas as pd\n",
    "import sys\n",
    "sys.path.append('/home/zh/opt/project/pycharmproject/minirocket/code')\n",
    "from minirocket import fit, transform\n",
    "from sklearn.linear_model import RidgeClassifierCV\n",
    "import numpy as np\n",
    "from sklearn.metrics import accuracy_score\n",
    "import os\n",
    "import csv\n",
    "import time"
   ]
  },
  {
   "cell_type": "code",
   "execution_count": 2,
   "id": "d7c45135",
   "metadata": {},
   "outputs": [],
   "source": [
    "def minirocket_arff_acc(dataset_name, sample_num):\n",
    "    \n",
    "    # read data\n",
    "    X_Y_training_path = f\"\"\"/home/zh/opt/project/pycharmproject/minirocket/recurrence/data/{dataset_name}/{dataset_name}_TRAIN.arff\"\"\"\n",
    "    X_Y_test_path = f\"\"\"/home/zh/opt/project/pycharmproject/minirocket/recurrence/data/{dataset_name}/{dataset_name}_TEST.arff\"\"\"\n",
    "    \n",
    "    # data format transform arff -> dataframe -> numpy.array\n",
    "    X_Y_training_data = arff.loadarff(X_Y_training_path)\n",
    "    X_Y_test_data = arff.loadarff(X_Y_test_path)\n",
    "    \n",
    "    X_Y_training_df = pd.DataFrame(X_Y_training_data[0])\n",
    "    X_Y_training_df = X_Y_training_df.sample(n=sample_num, random_state=1)\n",
    "    X_Y_training_df['target'] = X_Y_training_df['target'].apply(lambda x : x.decode('utf-8'))\n",
    "    X_Y_training_df['target'] = X_Y_training_df['target'].map(dict(zip(X_Y_training_df['target'].unique(), range(X_Y_training_df['target'].nunique()))))\n",
    "    \n",
    "    X_Y_test_df = pd.DataFrame(X_Y_test_data[0])\n",
    "    X_Y_test_df = X_Y_test_df.sample(n=sample_num, random_state=1)\n",
    "    X_Y_test_df['target'] = X_Y_test_df['target'].apply(lambda x : x.decode('utf-8'))\n",
    "    X_Y_test_df['target'] = X_Y_test_df['target'].map(dict(zip(X_Y_test_df['target'].unique(), range(X_Y_test_df['target'].nunique()))))\n",
    "    \n",
    "    X_Y_training = X_Y_training_df.values\n",
    "    X_Y_test = X_Y_test_df.values\n",
    "    \n",
    "    X_training = X_Y_training[:, :-1]\n",
    "    Y_training = X_Y_training[:, -1]\n",
    "    X_training = X_training.astype(np.float32)\n",
    "    Y_training = Y_training.astype(np.int)\n",
    "    \n",
    "    X_test = X_Y_test[:, :-1]\n",
    "    Y_test = X_Y_test[:, -1]\n",
    "    X_test = X_test.astype(np.float32)\n",
    "    Y_test = Y_test.astype(np.int)\n",
    "    \n",
    "    # transform and fit\n",
    "    time_a = time.perf_counter()\n",
    "    \n",
    "    parameters = fit(X_training)\n",
    "    X_training_transform = transform(X_training, parameters)\n",
    "    X_test_transform = transform(X_test, parameters)\n",
    "\n",
    "    classifier = RidgeClassifierCV(alphas = np.logspace(-3, 3, 10), normalize = True)\n",
    "    classifier.fit(X_training_transform, Y_training)\n",
    "    \n",
    "    time_b = time.perf_counter()\n",
    "    \n",
    "    # predict\n",
    "    predictions = classifier.predict(X_test_transform)\n",
    "    \n",
    "    # accuracy\n",
    "    acc = accuracy_score(predictions, Y_test)\n",
    "    \n",
    "    return acc, time_b - time_a\n",
    "\n",
    "def get_sample_num(dataset_name):\n",
    "    \n",
    "    if dataset_name == 'InsectSound':\n",
    "        return [2**i for i in range(13, 15)]\n",
    "    elif dataset_name == 'FruitFlies':\n",
    "        return [2**i for i in range(10, 15)]\n",
    "    elif dataset_name == 'MosquitoSound':\n",
    "        return [2**i for i in range(10, 18)]\n",
    "    "
   ]
  },
  {
   "cell_type": "code",
   "execution_count": 3,
   "id": "55faa3e1",
   "metadata": {},
   "outputs": [],
   "source": [
    "# dataset_names = ['InsectSound', 'FruitFlies', 'MosquitoSound']\n",
    "dataset_names = ['InsectSound']"
   ]
  },
  {
   "cell_type": "code",
   "execution_count": 4,
   "id": "790757a0",
   "metadata": {},
   "outputs": [
    {
     "name": "stdout",
     "output_type": "stream",
     "text": [
      "InsectSound\n",
      "25000\n",
      "2021-12-06 04:14:29 1024 0.6689453125 1.099247806938365\n"
     ]
    },
    {
     "ename": "KeyboardInterrupt",
     "evalue": "",
     "output_type": "error",
     "traceback": [
      "\u001b[0;31m---------------------------------------------------------------------------\u001b[0m",
      "\u001b[0;31mKeyboardInterrupt\u001b[0m                         Traceback (most recent call last)",
      "\u001b[0;32m<ipython-input-4-21985b3138b1>\u001b[0m in \u001b[0;36m<module>\u001b[0;34m\u001b[0m\n\u001b[1;32m      3\u001b[0m     \u001b[0msample_num_list\u001b[0m \u001b[0;34m=\u001b[0m \u001b[0mget_sample_num\u001b[0m\u001b[0;34m(\u001b[0m\u001b[0mdataset_name\u001b[0m\u001b[0;34m)\u001b[0m\u001b[0;34m\u001b[0m\u001b[0;34m\u001b[0m\u001b[0m\n\u001b[1;32m      4\u001b[0m     \u001b[0;32mfor\u001b[0m \u001b[0msample_num\u001b[0m \u001b[0;32min\u001b[0m \u001b[0msample_num_list\u001b[0m\u001b[0;34m:\u001b[0m\u001b[0;34m\u001b[0m\u001b[0;34m\u001b[0m\u001b[0m\n\u001b[0;32m----> 5\u001b[0;31m         \u001b[0macc\u001b[0m\u001b[0;34m,\u001b[0m \u001b[0mt\u001b[0m \u001b[0;34m=\u001b[0m \u001b[0mminirocket_arff_acc\u001b[0m\u001b[0;34m(\u001b[0m\u001b[0mdataset_name\u001b[0m\u001b[0;34m,\u001b[0m \u001b[0msample_num\u001b[0m\u001b[0;34m)\u001b[0m\u001b[0;34m\u001b[0m\u001b[0;34m\u001b[0m\u001b[0m\n\u001b[0m\u001b[1;32m      6\u001b[0m         \u001b[0mprint\u001b[0m\u001b[0;34m(\u001b[0m\u001b[0mtime\u001b[0m\u001b[0;34m.\u001b[0m\u001b[0mstrftime\u001b[0m\u001b[0;34m(\u001b[0m\u001b[0;34m\"%Y-%m-%d %H:%M:%S\"\u001b[0m\u001b[0;34m,\u001b[0m \u001b[0mtime\u001b[0m\u001b[0;34m.\u001b[0m\u001b[0mlocaltime\u001b[0m\u001b[0;34m(\u001b[0m\u001b[0;34m)\u001b[0m\u001b[0;34m)\u001b[0m \u001b[0;34m+\u001b[0m \u001b[0;34m' '\u001b[0m \u001b[0;34m+\u001b[0m \u001b[0mstr\u001b[0m\u001b[0;34m(\u001b[0m\u001b[0msample_num\u001b[0m\u001b[0;34m)\u001b[0m \u001b[0;34m+\u001b[0m \u001b[0;34m' '\u001b[0m \u001b[0;34m+\u001b[0m \u001b[0mstr\u001b[0m\u001b[0;34m(\u001b[0m\u001b[0macc\u001b[0m\u001b[0;34m)\u001b[0m \u001b[0;34m+\u001b[0m \u001b[0;34m' '\u001b[0m \u001b[0;34m+\u001b[0m \u001b[0mstr\u001b[0m\u001b[0;34m(\u001b[0m\u001b[0mt\u001b[0m\u001b[0;34m)\u001b[0m\u001b[0;34m)\u001b[0m\u001b[0;34m\u001b[0m\u001b[0;34m\u001b[0m\u001b[0m\n",
      "\u001b[0;32m<ipython-input-2-1aa7bf206cd6>\u001b[0m in \u001b[0;36mminirocket_arff_acc\u001b[0;34m(dataset_name, sample_num)\u001b[0m\n\u001b[1;32m      7\u001b[0m     \u001b[0;31m# data format transform arff -> dataframe -> numpy.array\u001b[0m\u001b[0;34m\u001b[0m\u001b[0;34m\u001b[0m\u001b[0;34m\u001b[0m\u001b[0m\n\u001b[1;32m      8\u001b[0m     \u001b[0mX_Y_training_data\u001b[0m \u001b[0;34m=\u001b[0m \u001b[0marff\u001b[0m\u001b[0;34m.\u001b[0m\u001b[0mloadarff\u001b[0m\u001b[0;34m(\u001b[0m\u001b[0mX_Y_training_path\u001b[0m\u001b[0;34m)\u001b[0m\u001b[0;34m\u001b[0m\u001b[0;34m\u001b[0m\u001b[0m\n\u001b[0;32m----> 9\u001b[0;31m     \u001b[0mX_Y_test_data\u001b[0m \u001b[0;34m=\u001b[0m \u001b[0marff\u001b[0m\u001b[0;34m.\u001b[0m\u001b[0mloadarff\u001b[0m\u001b[0;34m(\u001b[0m\u001b[0mX_Y_test_path\u001b[0m\u001b[0;34m)\u001b[0m\u001b[0;34m\u001b[0m\u001b[0;34m\u001b[0m\u001b[0m\n\u001b[0m\u001b[1;32m     10\u001b[0m \u001b[0;34m\u001b[0m\u001b[0m\n\u001b[1;32m     11\u001b[0m     \u001b[0mX_Y_training_df\u001b[0m \u001b[0;34m=\u001b[0m \u001b[0mpd\u001b[0m\u001b[0;34m.\u001b[0m\u001b[0mDataFrame\u001b[0m\u001b[0;34m(\u001b[0m\u001b[0mX_Y_training_data\u001b[0m\u001b[0;34m[\u001b[0m\u001b[0;36m0\u001b[0m\u001b[0;34m]\u001b[0m\u001b[0;34m)\u001b[0m\u001b[0;34m\u001b[0m\u001b[0;34m\u001b[0m\u001b[0m\n",
      "\u001b[0;32m~/.local/lib/python3.6/site-packages/scipy/io/arff/arffread.py\u001b[0m in \u001b[0;36mloadarff\u001b[0;34m(f)\u001b[0m\n\u001b[1;32m    800\u001b[0m         \u001b[0mofile\u001b[0m \u001b[0;34m=\u001b[0m \u001b[0mopen\u001b[0m\u001b[0;34m(\u001b[0m\u001b[0mf\u001b[0m\u001b[0;34m,\u001b[0m \u001b[0;34m'rt'\u001b[0m\u001b[0;34m)\u001b[0m\u001b[0;34m\u001b[0m\u001b[0;34m\u001b[0m\u001b[0m\n\u001b[1;32m    801\u001b[0m     \u001b[0;32mtry\u001b[0m\u001b[0;34m:\u001b[0m\u001b[0;34m\u001b[0m\u001b[0;34m\u001b[0m\u001b[0m\n\u001b[0;32m--> 802\u001b[0;31m         \u001b[0;32mreturn\u001b[0m \u001b[0m_loadarff\u001b[0m\u001b[0;34m(\u001b[0m\u001b[0mofile\u001b[0m\u001b[0;34m)\u001b[0m\u001b[0;34m\u001b[0m\u001b[0;34m\u001b[0m\u001b[0m\n\u001b[0m\u001b[1;32m    803\u001b[0m     \u001b[0;32mfinally\u001b[0m\u001b[0;34m:\u001b[0m\u001b[0;34m\u001b[0m\u001b[0;34m\u001b[0m\u001b[0m\n\u001b[1;32m    804\u001b[0m         \u001b[0;32mif\u001b[0m \u001b[0mofile\u001b[0m \u001b[0;32mis\u001b[0m \u001b[0;32mnot\u001b[0m \u001b[0mf\u001b[0m\u001b[0;34m:\u001b[0m  \u001b[0;31m# only close what we opened\u001b[0m\u001b[0;34m\u001b[0m\u001b[0;34m\u001b[0m\u001b[0m\n",
      "\u001b[0;32m~/.local/lib/python3.6/site-packages/scipy/io/arff/arffread.py\u001b[0m in \u001b[0;36m_loadarff\u001b[0;34m(ofile)\u001b[0m\n\u001b[1;32m    867\u001b[0m     \u001b[0ma\u001b[0m \u001b[0;34m=\u001b[0m \u001b[0mlist\u001b[0m\u001b[0;34m(\u001b[0m\u001b[0mgenerator\u001b[0m\u001b[0;34m(\u001b[0m\u001b[0mofile\u001b[0m\u001b[0;34m)\u001b[0m\u001b[0;34m)\u001b[0m\u001b[0;34m\u001b[0m\u001b[0;34m\u001b[0m\u001b[0m\n\u001b[1;32m    868\u001b[0m     \u001b[0;31m# No error should happen here: it is a bug otherwise\u001b[0m\u001b[0;34m\u001b[0m\u001b[0;34m\u001b[0m\u001b[0;34m\u001b[0m\u001b[0m\n\u001b[0;32m--> 869\u001b[0;31m     \u001b[0mdata\u001b[0m \u001b[0;34m=\u001b[0m \u001b[0mnp\u001b[0m\u001b[0;34m.\u001b[0m\u001b[0marray\u001b[0m\u001b[0;34m(\u001b[0m\u001b[0ma\u001b[0m\u001b[0;34m,\u001b[0m \u001b[0;34m[\u001b[0m\u001b[0;34m(\u001b[0m\u001b[0ma\u001b[0m\u001b[0;34m.\u001b[0m\u001b[0mname\u001b[0m\u001b[0;34m,\u001b[0m \u001b[0ma\u001b[0m\u001b[0;34m.\u001b[0m\u001b[0mdtype\u001b[0m\u001b[0;34m)\u001b[0m \u001b[0;32mfor\u001b[0m \u001b[0ma\u001b[0m \u001b[0;32min\u001b[0m \u001b[0mattr\u001b[0m\u001b[0;34m]\u001b[0m\u001b[0;34m)\u001b[0m\u001b[0;34m\u001b[0m\u001b[0;34m\u001b[0m\u001b[0m\n\u001b[0m\u001b[1;32m    870\u001b[0m     \u001b[0;32mreturn\u001b[0m \u001b[0mdata\u001b[0m\u001b[0;34m,\u001b[0m \u001b[0mmeta\u001b[0m\u001b[0;34m\u001b[0m\u001b[0;34m\u001b[0m\u001b[0m\n\u001b[1;32m    871\u001b[0m \u001b[0;34m\u001b[0m\u001b[0m\n",
      "\u001b[0;31mKeyboardInterrupt\u001b[0m: "
     ]
    }
   ],
   "source": [
    "for dataset_name in dataset_names:\n",
    "    print(dataset_name)\n",
    "    sample_num_list = get_sample_num(dataset_name)\n",
    "    for sample_num in sample_num_list:\n",
    "        acc, t = minirocket_arff_acc(dataset_name, sample_num)\n",
    "        print(time.strftime(\"%Y-%m-%d %H:%M:%S\", time.localtime()) + ' ' + str(sample_num) + ' ' + str(acc) + ' ' + str(t))"
   ]
  }
 ],
 "metadata": {
  "kernelspec": {
   "display_name": "Python 3",
   "language": "python",
   "name": "python3"
  },
  "language_info": {
   "codemirror_mode": {
    "name": "ipython",
    "version": 3
   },
   "file_extension": ".py",
   "mimetype": "text/x-python",
   "name": "python",
   "nbconvert_exporter": "python",
   "pygments_lexer": "ipython3",
   "version": "3.6.9"
  }
 },
 "nbformat": 4,
 "nbformat_minor": 5
}
