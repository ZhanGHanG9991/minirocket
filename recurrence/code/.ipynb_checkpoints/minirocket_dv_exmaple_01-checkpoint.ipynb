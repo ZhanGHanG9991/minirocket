{
 "cells": [
  {
   "cell_type": "code",
   "execution_count": 1,
   "id": "6aa2bee7",
   "metadata": {
    "scrolled": true
   },
   "outputs": [
    {
     "name": "stderr",
     "output_type": "stream",
     "text": [
      "/home/zh/.local/lib/python3.6/site-packages/numba/core/errors.py:154: UserWarning: Insufficiently recent colorama version found. Numba requires colorama >= 0.3.9\n",
      "  warnings.warn(msg)\n"
     ]
    }
   ],
   "source": [
    "import sys\n",
    "sys.path.append('/home/zh/opt/project/pycharmproject/minirocket/code')\n",
    "from minirocket_dv import fit_transform\n",
    "from minirocket import transform\n",
    "from sklearn.linear_model import RidgeClassifierCV\n",
    "import numpy as np\n",
    "from sklearn.metrics import accuracy_score"
   ]
  },
  {
   "cell_type": "code",
   "execution_count": 2,
   "id": "c0af1199",
   "metadata": {},
   "outputs": [],
   "source": [
    "X_Y_training = np.loadtxt('/home/zh/opt/project/pycharmproject/minirocket/recurrence/data/UCR/Adiac/Adiac_TRAIN.tsv', delimiter='\\t')\n",
    "X_Y_test = np.loadtxt('/home/zh/opt/project/pycharmproject/minirocket/recurrence/data/UCR/Adiac/Adiac_TEST.tsv', delimiter='\\t')"
   ]
  },
  {
   "cell_type": "code",
   "execution_count": 3,
   "id": "dd69790e",
   "metadata": {},
   "outputs": [],
   "source": [
    "X_training = X_Y_training[:, 1:]\n",
    "Y_training = X_Y_training[:, 0]\n",
    "X_training = X_training.astype(np.float32)\n",
    "Y_training = Y_training.astype(np.int)\n",
    "\n",
    "X_test = X_Y_test[:, 1:]\n",
    "Y_test = X_Y_test[:, 0]\n",
    "X_test = X_test.astype(np.float32)\n",
    "Y_test = Y_test.astype(np.int)"
   ]
  },
  {
   "cell_type": "code",
   "execution_count": 4,
   "id": "752e594f",
   "metadata": {},
   "outputs": [],
   "source": [
    "parameters, X_training_transform = fit_transform(X_training)\n",
    "\n",
    "classifier = RidgeClassifierCV(alphas = np.logspace(-3, 3, 10), normalize = True)\n",
    "classifier.fit(X_training_transform, Y_training)\n",
    "\n",
    "X_test_transform = transform(X_test, parameters)\n",
    "\n",
    "predictions = classifier.predict(X_test_transform)"
   ]
  },
  {
   "cell_type": "code",
   "execution_count": 5,
   "id": "a03790d0",
   "metadata": {},
   "outputs": [
    {
     "data": {
      "text/plain": [
       "0.8414322250639387"
      ]
     },
     "execution_count": 5,
     "metadata": {},
     "output_type": "execute_result"
    }
   ],
   "source": [
    "accuracy_score(predictions, Y_test)"
   ]
  }
 ],
 "metadata": {
  "kernelspec": {
   "display_name": "Python 3",
   "language": "python",
   "name": "python3"
  },
  "language_info": {
   "codemirror_mode": {
    "name": "ipython",
    "version": 3
   },
   "file_extension": ".py",
   "mimetype": "text/x-python",
   "name": "python",
   "nbconvert_exporter": "python",
   "pygments_lexer": "ipython3",
   "version": "3.6.9"
  }
 },
 "nbformat": 4,
 "nbformat_minor": 5
}
